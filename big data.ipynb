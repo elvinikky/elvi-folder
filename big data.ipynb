{
 "cells": [
  {
   "cell_type": "code",
   "execution_count": 2,
   "id": "1aa53f36",
   "metadata": {},
   "outputs": [],
   "source": [
    "import pandas as pd"
   ]
  },
  {
   "cell_type": "code",
   "execution_count": 5,
   "id": "3ad2f3b3",
   "metadata": {},
   "outputs": [
    {
     "name": "stderr",
     "output_type": "stream",
     "text": [
      "c:\\users\\elvin\\appdata\\local\\programs\\python\\python38\\lib\\site-packages\\IPython\\core\\interactiveshell.py:3444: DtypeWarning: Columns (0,2,35) have mixed types.Specify dtype option on import or set low_memory=False.\n",
      "  exec(code_obj, self.user_global_ns, self.user_ns)\n"
     ]
    }
   ],
   "source": [
    "df= pd.read_csv('dft-road-casualty-statistics-accident-2019.csv')"
   ]
  },
  {
   "cell_type": "code",
   "execution_count": 28,
   "id": "a3d2e2ee",
   "metadata": {},
   "outputs": [],
   "source": [
    "accident_data= df"
   ]
  },
  {
   "cell_type": "code",
   "execution_count": 29,
   "id": "fe35a636",
   "metadata": {},
   "outputs": [
    {
     "name": "stdout",
     "output_type": "stream",
     "text": [
      "<class 'pandas.core.frame.DataFrame'>\n",
      "RangeIndex: 216381 entries, 0 to 216380\n",
      "Data columns (total 27 columns):\n",
      " #   Column                            Non-Null Count   Dtype \n",
      "---  ------                            --------------   ----- \n",
      " 0   accident_index                    216381 non-null  object\n",
      " 1   accident_year                     216381 non-null  int64 \n",
      " 2   accident_reference                216381 non-null  object\n",
      " 3   vehicle_reference                 216381 non-null  int64 \n",
      " 4   vehicle_type                      216381 non-null  int64 \n",
      " 5   towing_and_articulation           216381 non-null  int64 \n",
      " 6   vehicle_manoeuvre                 216381 non-null  int64 \n",
      " 7   vehicle_direction_from            216381 non-null  int64 \n",
      " 8   vehicle_direction_to              216381 non-null  int64 \n",
      " 9   vehicle_location_restricted_lane  216381 non-null  int64 \n",
      " 10  junction_location                 216381 non-null  int64 \n",
      " 11  skidding_and_overturning          216381 non-null  int64 \n",
      " 12  hit_object_in_carriageway         216381 non-null  int64 \n",
      " 13  vehicle_leaving_carriageway       216381 non-null  int64 \n",
      " 14  hit_object_off_carriageway        216381 non-null  int64 \n",
      " 15  first_point_of_impact             216381 non-null  int64 \n",
      " 16  vehicle_left_hand_drive           216381 non-null  int64 \n",
      " 17  journey_purpose_of_driver         216381 non-null  int64 \n",
      " 18  sex_of_driver                     216381 non-null  int64 \n",
      " 19  age_of_driver                     216381 non-null  int64 \n",
      " 20  age_band_of_driver                216381 non-null  int64 \n",
      " 21  engine_capacity_cc                216381 non-null  int64 \n",
      " 22  propulsion_code                   216381 non-null  int64 \n",
      " 23  age_of_vehicle                    216381 non-null  int64 \n",
      " 24  generic_make_model                216381 non-null  int64 \n",
      " 25  driver_imd_decile                 216381 non-null  int64 \n",
      " 26  driver_home_area_type             216381 non-null  int64 \n",
      "dtypes: int64(25), object(2)\n",
      "memory usage: 44.6+ MB\n"
     ]
    }
   ],
   "source": [
    "accident_data.info()"
   ]
  },
  {
   "cell_type": "code",
   "execution_count": 37,
   "id": "d4d8a36f",
   "metadata": {},
   "outputs": [
    {
     "data": {
      "text/plain": [
       "accident_index                      0\n",
       "accident_year                       0\n",
       "accident_reference                  0\n",
       "vehicle_reference                   0\n",
       "vehicle_type                        0\n",
       "towing_and_articulation             0\n",
       "vehicle_manoeuvre                   0\n",
       "vehicle_direction_from              0\n",
       "vehicle_direction_to                0\n",
       "vehicle_location_restricted_lane    0\n",
       "junction_location                   0\n",
       "skidding_and_overturning            0\n",
       "hit_object_in_carriageway           0\n",
       "vehicle_leaving_carriageway         0\n",
       "hit_object_off_carriageway          0\n",
       "first_point_of_impact               0\n",
       "vehicle_left_hand_drive             0\n",
       "journey_purpose_of_driver           0\n",
       "sex_of_driver                       0\n",
       "age_of_driver                       0\n",
       "age_band_of_driver                  0\n",
       "engine_capacity_cc                  0\n",
       "propulsion_code                     0\n",
       "age_of_vehicle                      0\n",
       "generic_make_model                  0\n",
       "driver_imd_decile                   0\n",
       "driver_home_area_type               0\n",
       "dtype: int64"
      ]
     },
     "execution_count": 37,
     "metadata": {},
     "output_type": "execute_result"
    }
   ],
   "source": [
    "accident_data.isna().sum()"
   ]
  },
  {
   "cell_type": "code",
   "execution_count": 30,
   "id": "9ee1faf6",
   "metadata": {},
   "outputs": [],
   "source": [
    "casualty_data= df"
   ]
  },
  {
   "cell_type": "code",
   "execution_count": 31,
   "id": "fcd42d1f",
   "metadata": {},
   "outputs": [
    {
     "name": "stdout",
     "output_type": "stream",
     "text": [
      "<class 'pandas.core.frame.DataFrame'>\n",
      "RangeIndex: 216381 entries, 0 to 216380\n",
      "Data columns (total 27 columns):\n",
      " #   Column                            Non-Null Count   Dtype \n",
      "---  ------                            --------------   ----- \n",
      " 0   accident_index                    216381 non-null  object\n",
      " 1   accident_year                     216381 non-null  int64 \n",
      " 2   accident_reference                216381 non-null  object\n",
      " 3   vehicle_reference                 216381 non-null  int64 \n",
      " 4   vehicle_type                      216381 non-null  int64 \n",
      " 5   towing_and_articulation           216381 non-null  int64 \n",
      " 6   vehicle_manoeuvre                 216381 non-null  int64 \n",
      " 7   vehicle_direction_from            216381 non-null  int64 \n",
      " 8   vehicle_direction_to              216381 non-null  int64 \n",
      " 9   vehicle_location_restricted_lane  216381 non-null  int64 \n",
      " 10  junction_location                 216381 non-null  int64 \n",
      " 11  skidding_and_overturning          216381 non-null  int64 \n",
      " 12  hit_object_in_carriageway         216381 non-null  int64 \n",
      " 13  vehicle_leaving_carriageway       216381 non-null  int64 \n",
      " 14  hit_object_off_carriageway        216381 non-null  int64 \n",
      " 15  first_point_of_impact             216381 non-null  int64 \n",
      " 16  vehicle_left_hand_drive           216381 non-null  int64 \n",
      " 17  journey_purpose_of_driver         216381 non-null  int64 \n",
      " 18  sex_of_driver                     216381 non-null  int64 \n",
      " 19  age_of_driver                     216381 non-null  int64 \n",
      " 20  age_band_of_driver                216381 non-null  int64 \n",
      " 21  engine_capacity_cc                216381 non-null  int64 \n",
      " 22  propulsion_code                   216381 non-null  int64 \n",
      " 23  age_of_vehicle                    216381 non-null  int64 \n",
      " 24  generic_make_model                216381 non-null  int64 \n",
      " 25  driver_imd_decile                 216381 non-null  int64 \n",
      " 26  driver_home_area_type             216381 non-null  int64 \n",
      "dtypes: int64(25), object(2)\n",
      "memory usage: 44.6+ MB\n"
     ]
    }
   ],
   "source": [
    "casualty_data.info()"
   ]
  },
  {
   "cell_type": "code",
   "execution_count": 36,
   "id": "1ce097f2",
   "metadata": {},
   "outputs": [
    {
     "data": {
      "text/plain": [
       "accident_index                      0\n",
       "accident_year                       0\n",
       "accident_reference                  0\n",
       "vehicle_reference                   0\n",
       "vehicle_type                        0\n",
       "towing_and_articulation             0\n",
       "vehicle_manoeuvre                   0\n",
       "vehicle_direction_from              0\n",
       "vehicle_direction_to                0\n",
       "vehicle_location_restricted_lane    0\n",
       "junction_location                   0\n",
       "skidding_and_overturning            0\n",
       "hit_object_in_carriageway           0\n",
       "vehicle_leaving_carriageway         0\n",
       "hit_object_off_carriageway          0\n",
       "first_point_of_impact               0\n",
       "vehicle_left_hand_drive             0\n",
       "journey_purpose_of_driver           0\n",
       "sex_of_driver                       0\n",
       "age_of_driver                       0\n",
       "age_band_of_driver                  0\n",
       "engine_capacity_cc                  0\n",
       "propulsion_code                     0\n",
       "age_of_vehicle                      0\n",
       "generic_make_model                  0\n",
       "driver_imd_decile                   0\n",
       "driver_home_area_type               0\n",
       "dtype: int64"
      ]
     },
     "execution_count": 36,
     "metadata": {},
     "output_type": "execute_result"
    }
   ],
   "source": [
    "casualty_data.isna().sum()"
   ]
  },
  {
   "cell_type": "code",
   "execution_count": 21,
   "id": "f2daa502",
   "metadata": {},
   "outputs": [
    {
     "name": "stderr",
     "output_type": "stream",
     "text": [
      "c:\\users\\elvin\\appdata\\local\\programs\\python\\python38\\lib\\site-packages\\IPython\\core\\interactiveshell.py:3444: DtypeWarning: Columns (0,2) have mixed types.Specify dtype option on import or set low_memory=False.\n",
      "  exec(code_obj, self.user_global_ns, self.user_ns)\n"
     ]
    }
   ],
   "source": [
    "df= pd.read_csv('dft-road-casualty-statistics-vehicle-2019.csv')"
   ]
  },
  {
   "cell_type": "code",
   "execution_count": 32,
   "id": "039727a1",
   "metadata": {},
   "outputs": [],
   "source": [
    "vehicle_data= df"
   ]
  },
  {
   "cell_type": "code",
   "execution_count": 33,
   "id": "593f25e0",
   "metadata": {},
   "outputs": [
    {
     "name": "stdout",
     "output_type": "stream",
     "text": [
      "<class 'pandas.core.frame.DataFrame'>\n",
      "RangeIndex: 216381 entries, 0 to 216380\n",
      "Data columns (total 27 columns):\n",
      " #   Column                            Non-Null Count   Dtype \n",
      "---  ------                            --------------   ----- \n",
      " 0   accident_index                    216381 non-null  object\n",
      " 1   accident_year                     216381 non-null  int64 \n",
      " 2   accident_reference                216381 non-null  object\n",
      " 3   vehicle_reference                 216381 non-null  int64 \n",
      " 4   vehicle_type                      216381 non-null  int64 \n",
      " 5   towing_and_articulation           216381 non-null  int64 \n",
      " 6   vehicle_manoeuvre                 216381 non-null  int64 \n",
      " 7   vehicle_direction_from            216381 non-null  int64 \n",
      " 8   vehicle_direction_to              216381 non-null  int64 \n",
      " 9   vehicle_location_restricted_lane  216381 non-null  int64 \n",
      " 10  junction_location                 216381 non-null  int64 \n",
      " 11  skidding_and_overturning          216381 non-null  int64 \n",
      " 12  hit_object_in_carriageway         216381 non-null  int64 \n",
      " 13  vehicle_leaving_carriageway       216381 non-null  int64 \n",
      " 14  hit_object_off_carriageway        216381 non-null  int64 \n",
      " 15  first_point_of_impact             216381 non-null  int64 \n",
      " 16  vehicle_left_hand_drive           216381 non-null  int64 \n",
      " 17  journey_purpose_of_driver         216381 non-null  int64 \n",
      " 18  sex_of_driver                     216381 non-null  int64 \n",
      " 19  age_of_driver                     216381 non-null  int64 \n",
      " 20  age_band_of_driver                216381 non-null  int64 \n",
      " 21  engine_capacity_cc                216381 non-null  int64 \n",
      " 22  propulsion_code                   216381 non-null  int64 \n",
      " 23  age_of_vehicle                    216381 non-null  int64 \n",
      " 24  generic_make_model                216381 non-null  int64 \n",
      " 25  driver_imd_decile                 216381 non-null  int64 \n",
      " 26  driver_home_area_type             216381 non-null  int64 \n",
      "dtypes: int64(25), object(2)\n",
      "memory usage: 44.6+ MB\n"
     ]
    }
   ],
   "source": [
    "vehicle_data.info()"
   ]
  },
  {
   "cell_type": "code",
   "execution_count": 38,
   "id": "a5c5d8c1",
   "metadata": {},
   "outputs": [
    {
     "data": {
      "text/plain": [
       "accident_index                      0\n",
       "accident_year                       0\n",
       "accident_reference                  0\n",
       "vehicle_reference                   0\n",
       "vehicle_type                        0\n",
       "towing_and_articulation             0\n",
       "vehicle_manoeuvre                   0\n",
       "vehicle_direction_from              0\n",
       "vehicle_direction_to                0\n",
       "vehicle_location_restricted_lane    0\n",
       "junction_location                   0\n",
       "skidding_and_overturning            0\n",
       "hit_object_in_carriageway           0\n",
       "vehicle_leaving_carriageway         0\n",
       "hit_object_off_carriageway          0\n",
       "first_point_of_impact               0\n",
       "vehicle_left_hand_drive             0\n",
       "journey_purpose_of_driver           0\n",
       "sex_of_driver                       0\n",
       "age_of_driver                       0\n",
       "age_band_of_driver                  0\n",
       "engine_capacity_cc                  0\n",
       "propulsion_code                     0\n",
       "age_of_vehicle                      0\n",
       "generic_make_model                  0\n",
       "driver_imd_decile                   0\n",
       "driver_home_area_type               0\n",
       "dtype: int64"
      ]
     },
     "execution_count": 38,
     "metadata": {},
     "output_type": "execute_result"
    }
   ],
   "source": [
    "vehicle_data.isna().sum()"
   ]
  },
  {
   "cell_type": "code",
   "execution_count": 39,
   "id": "57cec52a",
   "metadata": {},
   "outputs": [
    {
     "data": {
      "text/plain": [
       "array([2019010128300, 2019010152270, 2019010155191, ..., '2019984107219',\n",
       "       '2019984107419', '201998QC01004'], dtype=object)"
      ]
     },
     "execution_count": 39,
     "metadata": {},
     "output_type": "execute_result"
    }
   ],
   "source": [
    "df[\"accident_index\"].unique()"
   ]
  },
  {
   "cell_type": "code",
   "execution_count": 15,
   "id": "8818ec62",
   "metadata": {},
   "outputs": [
    {
     "data": {
      "text/plain": [
       "array([10128300, 10152270, 10155191, ..., '984107219', '984107419',\n",
       "       '98QC01004'], dtype=object)"
      ]
     },
     "execution_count": 15,
     "metadata": {},
     "output_type": "execute_result"
    }
   ],
   "source": [
    "df[\"accident_reference\"].unique()"
   ]
  },
  {
   "cell_type": "code",
   "execution_count": 16,
   "id": "ef13b332",
   "metadata": {},
   "outputs": [
    {
     "data": {
      "text/plain": [
       "array([2019], dtype=int64)"
      ]
     },
     "execution_count": 16,
     "metadata": {},
     "output_type": "execute_result"
    }
   ],
   "source": [
    "df[\"accident_year\"].unique()"
   ]
  },
  {
   "cell_type": "code",
   "execution_count": 41,
   "id": "6aba4d31",
   "metadata": {},
   "outputs": [],
   "source": [
    "import seaborn as sns"
   ]
  },
  {
   "cell_type": "code",
   "execution_count": 42,
   "id": "1c718443",
   "metadata": {},
   "outputs": [
    {
     "ename": "KeyError",
     "evalue": "'Time'",
     "output_type": "error",
     "traceback": [
      "\u001b[1;31m---------------------------------------------------------------------------\u001b[0m",
      "\u001b[1;31mKeyError\u001b[0m                                  Traceback (most recent call last)",
      "\u001b[1;32mc:\\users\\elvin\\appdata\\local\\programs\\python\\python38\\lib\\site-packages\\pandas\\core\\indexes\\base.py\u001b[0m in \u001b[0;36mget_loc\u001b[1;34m(self, key, method, tolerance)\u001b[0m\n\u001b[0;32m   3360\u001b[0m             \u001b[1;32mtry\u001b[0m\u001b[1;33m:\u001b[0m\u001b[1;33m\u001b[0m\u001b[1;33m\u001b[0m\u001b[0m\n\u001b[1;32m-> 3361\u001b[1;33m                 \u001b[1;32mreturn\u001b[0m \u001b[0mself\u001b[0m\u001b[1;33m.\u001b[0m\u001b[0m_engine\u001b[0m\u001b[1;33m.\u001b[0m\u001b[0mget_loc\u001b[0m\u001b[1;33m(\u001b[0m\u001b[0mcasted_key\u001b[0m\u001b[1;33m)\u001b[0m\u001b[1;33m\u001b[0m\u001b[1;33m\u001b[0m\u001b[0m\n\u001b[0m\u001b[0;32m   3362\u001b[0m             \u001b[1;32mexcept\u001b[0m \u001b[0mKeyError\u001b[0m \u001b[1;32mas\u001b[0m \u001b[0merr\u001b[0m\u001b[1;33m:\u001b[0m\u001b[1;33m\u001b[0m\u001b[1;33m\u001b[0m\u001b[0m\n",
      "\u001b[1;32mc:\\users\\elvin\\appdata\\local\\programs\\python\\python38\\lib\\site-packages\\pandas\\_libs\\index.pyx\u001b[0m in \u001b[0;36mpandas._libs.index.IndexEngine.get_loc\u001b[1;34m()\u001b[0m\n",
      "\u001b[1;32mc:\\users\\elvin\\appdata\\local\\programs\\python\\python38\\lib\\site-packages\\pandas\\_libs\\index.pyx\u001b[0m in \u001b[0;36mpandas._libs.index.IndexEngine.get_loc\u001b[1;34m()\u001b[0m\n",
      "\u001b[1;32mpandas\\_libs\\hashtable_class_helper.pxi\u001b[0m in \u001b[0;36mpandas._libs.hashtable.PyObjectHashTable.get_item\u001b[1;34m()\u001b[0m\n",
      "\u001b[1;32mpandas\\_libs\\hashtable_class_helper.pxi\u001b[0m in \u001b[0;36mpandas._libs.hashtable.PyObjectHashTable.get_item\u001b[1;34m()\u001b[0m\n",
      "\u001b[1;31mKeyError\u001b[0m: 'Time'",
      "\nThe above exception was the direct cause of the following exception:\n",
      "\u001b[1;31mKeyError\u001b[0m                                  Traceback (most recent call last)",
      "\u001b[1;32m~\\AppData\\Local\\Temp/ipykernel_10688/1420887747.py\u001b[0m in \u001b[0;36m<module>\u001b[1;34m\u001b[0m\n\u001b[1;32m----> 1\u001b[1;33m \u001b[0maccident_data\u001b[0m\u001b[1;33m[\u001b[0m\u001b[1;34m'converted_time'\u001b[0m\u001b[1;33m]\u001b[0m\u001b[1;33m=\u001b[0m \u001b[0mpd\u001b[0m\u001b[1;33m.\u001b[0m\u001b[0mDatetimeIndex\u001b[0m\u001b[1;33m(\u001b[0m\u001b[0maccident_data\u001b[0m\u001b[1;33m[\u001b[0m\u001b[1;34m'Time'\u001b[0m\u001b[1;33m]\u001b[0m\u001b[1;33m)\u001b[0m\u001b[1;33m\u001b[0m\u001b[1;33m\u001b[0m\u001b[0m\n\u001b[0m",
      "\u001b[1;32mc:\\users\\elvin\\appdata\\local\\programs\\python\\python38\\lib\\site-packages\\pandas\\core\\frame.py\u001b[0m in \u001b[0;36m__getitem__\u001b[1;34m(self, key)\u001b[0m\n\u001b[0;32m   3456\u001b[0m             \u001b[1;32mif\u001b[0m \u001b[0mself\u001b[0m\u001b[1;33m.\u001b[0m\u001b[0mcolumns\u001b[0m\u001b[1;33m.\u001b[0m\u001b[0mnlevels\u001b[0m \u001b[1;33m>\u001b[0m \u001b[1;36m1\u001b[0m\u001b[1;33m:\u001b[0m\u001b[1;33m\u001b[0m\u001b[1;33m\u001b[0m\u001b[0m\n\u001b[0;32m   3457\u001b[0m                 \u001b[1;32mreturn\u001b[0m \u001b[0mself\u001b[0m\u001b[1;33m.\u001b[0m\u001b[0m_getitem_multilevel\u001b[0m\u001b[1;33m(\u001b[0m\u001b[0mkey\u001b[0m\u001b[1;33m)\u001b[0m\u001b[1;33m\u001b[0m\u001b[1;33m\u001b[0m\u001b[0m\n\u001b[1;32m-> 3458\u001b[1;33m             \u001b[0mindexer\u001b[0m \u001b[1;33m=\u001b[0m \u001b[0mself\u001b[0m\u001b[1;33m.\u001b[0m\u001b[0mcolumns\u001b[0m\u001b[1;33m.\u001b[0m\u001b[0mget_loc\u001b[0m\u001b[1;33m(\u001b[0m\u001b[0mkey\u001b[0m\u001b[1;33m)\u001b[0m\u001b[1;33m\u001b[0m\u001b[1;33m\u001b[0m\u001b[0m\n\u001b[0m\u001b[0;32m   3459\u001b[0m             \u001b[1;32mif\u001b[0m \u001b[0mis_integer\u001b[0m\u001b[1;33m(\u001b[0m\u001b[0mindexer\u001b[0m\u001b[1;33m)\u001b[0m\u001b[1;33m:\u001b[0m\u001b[1;33m\u001b[0m\u001b[1;33m\u001b[0m\u001b[0m\n\u001b[0;32m   3460\u001b[0m                 \u001b[0mindexer\u001b[0m \u001b[1;33m=\u001b[0m \u001b[1;33m[\u001b[0m\u001b[0mindexer\u001b[0m\u001b[1;33m]\u001b[0m\u001b[1;33m\u001b[0m\u001b[1;33m\u001b[0m\u001b[0m\n",
      "\u001b[1;32mc:\\users\\elvin\\appdata\\local\\programs\\python\\python38\\lib\\site-packages\\pandas\\core\\indexes\\base.py\u001b[0m in \u001b[0;36mget_loc\u001b[1;34m(self, key, method, tolerance)\u001b[0m\n\u001b[0;32m   3361\u001b[0m                 \u001b[1;32mreturn\u001b[0m \u001b[0mself\u001b[0m\u001b[1;33m.\u001b[0m\u001b[0m_engine\u001b[0m\u001b[1;33m.\u001b[0m\u001b[0mget_loc\u001b[0m\u001b[1;33m(\u001b[0m\u001b[0mcasted_key\u001b[0m\u001b[1;33m)\u001b[0m\u001b[1;33m\u001b[0m\u001b[1;33m\u001b[0m\u001b[0m\n\u001b[0;32m   3362\u001b[0m             \u001b[1;32mexcept\u001b[0m \u001b[0mKeyError\u001b[0m \u001b[1;32mas\u001b[0m \u001b[0merr\u001b[0m\u001b[1;33m:\u001b[0m\u001b[1;33m\u001b[0m\u001b[1;33m\u001b[0m\u001b[0m\n\u001b[1;32m-> 3363\u001b[1;33m                 \u001b[1;32mraise\u001b[0m \u001b[0mKeyError\u001b[0m\u001b[1;33m(\u001b[0m\u001b[0mkey\u001b[0m\u001b[1;33m)\u001b[0m \u001b[1;32mfrom\u001b[0m \u001b[0merr\u001b[0m\u001b[1;33m\u001b[0m\u001b[1;33m\u001b[0m\u001b[0m\n\u001b[0m\u001b[0;32m   3364\u001b[0m \u001b[1;33m\u001b[0m\u001b[0m\n\u001b[0;32m   3365\u001b[0m         \u001b[1;32mif\u001b[0m \u001b[0mis_scalar\u001b[0m\u001b[1;33m(\u001b[0m\u001b[0mkey\u001b[0m\u001b[1;33m)\u001b[0m \u001b[1;32mand\u001b[0m \u001b[0misna\u001b[0m\u001b[1;33m(\u001b[0m\u001b[0mkey\u001b[0m\u001b[1;33m)\u001b[0m \u001b[1;32mand\u001b[0m \u001b[1;32mnot\u001b[0m \u001b[0mself\u001b[0m\u001b[1;33m.\u001b[0m\u001b[0mhasnans\u001b[0m\u001b[1;33m:\u001b[0m\u001b[1;33m\u001b[0m\u001b[1;33m\u001b[0m\u001b[0m\n",
      "\u001b[1;31mKeyError\u001b[0m: 'Time'"
     ]
    }
   ],
   "source": [
    "accident_data['converted_time']= pd.DatetimeIndex(accident_data['Time'])"
   ]
  },
  {
   "cell_type": "code",
   "execution_count": null,
   "id": "bcfe8def",
   "metadata": {},
   "outputs": [],
   "source": []
  }
 ],
 "metadata": {
  "kernelspec": {
   "display_name": "Python 3 (ipykernel)",
   "language": "python",
   "name": "python3"
  },
  "language_info": {
   "codemirror_mode": {
    "name": "ipython",
    "version": 3
   },
   "file_extension": ".py",
   "mimetype": "text/x-python",
   "name": "python",
   "nbconvert_exporter": "python",
   "pygments_lexer": "ipython3",
   "version": "3.8.5"
  }
 },
 "nbformat": 4,
 "nbformat_minor": 5
}
